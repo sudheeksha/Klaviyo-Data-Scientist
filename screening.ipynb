{
 "cells": [
  {
   "cell_type": "code",
   "execution_count": 1,
   "metadata": {},
   "outputs": [],
   "source": [
    "# @Author : Sudheeksha Garg\n",
    "# @Email : sudheeksha.garg@gmail.com\n",
    "\n",
    "import pandas as pd\n",
    "import matplotlib.pyplot as plt\n",
    "import datetime\n",
    "\n",
    "#Importing the file\n",
    "df = pd.read_csv('screening_exercise_orders_v201810.csv')"
   ]
  },
  {
   "cell_type": "code",
   "execution_count": 2,
   "metadata": {},
   "outputs": [
    {
     "data": {
      "text/html": [
       "<div>\n",
       "<style scoped>\n",
       "    .dataframe tbody tr th:only-of-type {\n",
       "        vertical-align: middle;\n",
       "    }\n",
       "\n",
       "    .dataframe tbody tr th {\n",
       "        vertical-align: top;\n",
       "    }\n",
       "\n",
       "    .dataframe thead th {\n",
       "        text-align: right;\n",
       "    }\n",
       "</style>\n",
       "<table border=\"1\" class=\"dataframe\">\n",
       "  <thead>\n",
       "    <tr style=\"text-align: right;\">\n",
       "      <th></th>\n",
       "      <th>customer_id</th>\n",
       "      <th>gender</th>\n",
       "      <th>most_recent_order_date</th>\n",
       "      <th>number_of_orders</th>\n",
       "    </tr>\n",
       "  </thead>\n",
       "  <tbody>\n",
       "    <tr>\n",
       "      <th>0</th>\n",
       "      <td>1000</td>\n",
       "      <td>0</td>\n",
       "      <td>2017-01-01 00:11:31</td>\n",
       "      <td>1</td>\n",
       "    </tr>\n",
       "    <tr>\n",
       "      <th>1</th>\n",
       "      <td>1001</td>\n",
       "      <td>0</td>\n",
       "      <td>2017-01-01 00:29:56</td>\n",
       "      <td>1</td>\n",
       "    </tr>\n",
       "    <tr>\n",
       "      <th>2</th>\n",
       "      <td>1002</td>\n",
       "      <td>1</td>\n",
       "      <td>2017-02-19 21:35:31</td>\n",
       "      <td>3</td>\n",
       "    </tr>\n",
       "    <tr>\n",
       "      <th>3</th>\n",
       "      <td>1003</td>\n",
       "      <td>1</td>\n",
       "      <td>2017-04-26 02:37:20</td>\n",
       "      <td>4</td>\n",
       "    </tr>\n",
       "    <tr>\n",
       "      <th>4</th>\n",
       "      <td>1004</td>\n",
       "      <td>0</td>\n",
       "      <td>2017-01-01 03:11:54</td>\n",
       "      <td>1</td>\n",
       "    </tr>\n",
       "    <tr>\n",
       "      <th>5</th>\n",
       "      <td>1005</td>\n",
       "      <td>1</td>\n",
       "      <td>2017-12-16 01:39:27</td>\n",
       "      <td>2</td>\n",
       "    </tr>\n",
       "    <tr>\n",
       "      <th>6</th>\n",
       "      <td>1006</td>\n",
       "      <td>1</td>\n",
       "      <td>2017-05-09 15:27:20</td>\n",
       "      <td>3</td>\n",
       "    </tr>\n",
       "    <tr>\n",
       "      <th>7</th>\n",
       "      <td>1007</td>\n",
       "      <td>0</td>\n",
       "      <td>2017-01-01 15:59:50</td>\n",
       "      <td>1</td>\n",
       "    </tr>\n",
       "    <tr>\n",
       "      <th>8</th>\n",
       "      <td>1008</td>\n",
       "      <td>0</td>\n",
       "      <td>2017-12-17 05:47:48</td>\n",
       "      <td>3</td>\n",
       "    </tr>\n",
       "    <tr>\n",
       "      <th>9</th>\n",
       "      <td>1009</td>\n",
       "      <td>1</td>\n",
       "      <td>2017-01-01 19:27:17</td>\n",
       "      <td>1</td>\n",
       "    </tr>\n",
       "  </tbody>\n",
       "</table>\n",
       "</div>"
      ],
      "text/plain": [
       "   customer_id  gender most_recent_order_date  number_of_orders\n",
       "0         1000       0    2017-01-01 00:11:31                 1\n",
       "1         1001       0    2017-01-01 00:29:56                 1\n",
       "2         1002       1    2017-02-19 21:35:31                 3\n",
       "3         1003       1    2017-04-26 02:37:20                 4\n",
       "4         1004       0    2017-01-01 03:11:54                 1\n",
       "5         1005       1    2017-12-16 01:39:27                 2\n",
       "6         1006       1    2017-05-09 15:27:20                 3\n",
       "7         1007       0    2017-01-01 15:59:50                 1\n",
       "8         1008       0    2017-12-17 05:47:48                 3\n",
       "9         1009       1    2017-01-01 19:27:17                 1"
      ]
     },
     "execution_count": 2,
     "metadata": {},
     "output_type": "execute_result"
    }
   ],
   "source": [
    "# Question A\n",
    "\n",
    "# the most recent customer order\n",
    "recent_order = df.groupby(['customer_id','gender'], sort=False)['date'].max()\n",
    "\n",
    "# The number of orders made per customer\n",
    "order_count = df['customer_id'].value_counts()\n",
    "\n",
    "# Convert series to data frame\n",
    "order_count = order_count.to_frame().reset_index()\n",
    "recent_order = recent_order.to_frame().reset_index()\n",
    "\n",
    "recent_order.columns = ['customer_id','gender','most_recent_order_date']\n",
    "order_count.columns = ['customer_id','number_of_orders']\n",
    "\n",
    "# Join the two dataframes\n",
    "customer_dataframe = recent_order.join(order_count.set_index('customer_id'), on = 'customer_id')\n",
    "\n",
    "# Result\n",
    "customer_dataframe.head(10)"
   ]
  },
  {
   "cell_type": "code",
   "execution_count": 3,
   "metadata": {},
   "outputs": [
    {
     "data": {
      "image/png": "[encoded data removed]",
      "text/plain": [
       "<Figure size 1440x720 with 1 Axes>"
      ]
     },
     "metadata": {},
     "output_type": "display_data"
    }
   ],
   "source": [
    "# Question B - Plot the count of orders per week for the store.\n",
    "from matplotlib.pyplot import figure\n",
    "figure(figsize=(20, 10), facecolor='w')\n",
    "\n",
    "# Get just week year\n",
    "df['date'] = pd.to_datetime(df['date'])\n",
    "df['Year_Week'] = df.date.dt.strftime('%Y-%U')\n",
    "\n",
    "orders_per_week = df.groupby(['Year_Week'])['value'].count()\n",
    "orders_per_week.columns = ['Year_Week', 'orders']\n",
    "\n",
    "ax = orders_per_week.plot.bar(color=['black', 'red', 'green', 'blue', 'cyan'])\n",
    "plt.title('Count of orders per week', fontsize=24)\n",
    "\n",
    "plt.ylabel('Orders count', fontsize=20)\n",
    "plt.xlabel('Year-week', fontsize=20)\n",
    "plt.show()"
   ]
  },
  {
   "cell_type": "code",
   "execution_count": 5,
   "metadata": {},
   "outputs": [
    {
     "name": "stdout",
     "output_type": "stream",
     "text": [
      "Using t test for comparison --> The t test compares means and tells \n",
      "you if they are different from each other. The t test also tells you how significant \n",
      "the differences are.\n",
      "Calculated t-statistics value 1.9759505628067568\n",
      "Calculated critical t-statistics value 0.04818075145872758\n",
      "Comparing the t statistic with the critical t value \n",
      "    we get a good p value of 0.04818075145872758 and thus we reject the null hypothesis \n",
      "    and thus it proves that the mean of the two distributions are different and statistically significant.\n"
     ]
    }
   ],
   "source": [
    "# C - Compute the mean order value for gender 0 and for gender 1. Do you think the difference is significant? Justify your choice of method.\n",
    "from scipy import stats\n",
    "import numpy as np\n",
    "\n",
    "print(\"\"\"Using t test for comparison --> The t test compares means and tells \n",
    "you if they are different from each other. The t test also tells you how significant \n",
    "the differences are.\"\"\")\n",
    "\n",
    "# Find the mean\n",
    "gender0_mean = df.groupby('gender')['value'].mean()[0]\n",
    "\n",
    "gender1_mean = df.groupby('gender')['value'].mean()[1]\n",
    "\n",
    "# Find the variance\n",
    "gender0_var = df.groupby('gender')['value'].var(ddof=1)[0]\n",
    "gender1_var = df.groupby('gender')['value'].var(ddof=1)[1]\n",
    "\n",
    "# Stardard Deviation\n",
    "s = np.sqrt((gender0_var + gender1_var)/2)\n",
    "\n",
    "n = (df['customer_id'].count())/2\n",
    "\n",
    "# The calculated t statistics\n",
    "t = (gender0_mean - gender1_mean)/(s*np.sqrt(2/n))\n",
    "print(\"Calculated t-statistics value \"+str(t))\n",
    "\n",
    "# degree of freedom\n",
    "f = 2*n - 2\n",
    "\n",
    "# Critical statistics\n",
    "p = 1 - stats.t.cdf(t,df=f)\n",
    "p = 2*p\n",
    "\n",
    "print(\"Calculated critical t-statistics value \"+str(p))\n",
    "\n",
    "if p < 0.05:\n",
    "    print(\"\"\"Comparing the t statistic with the critical t value \n",
    "    we get a good p value of \"\"\"+str(p)+\"\"\" and thus we reject the null hypothesis \n",
    "    and thus it proves that the mean of the two distributions are different and statistically significant.\"\"\")\n",
    "else:\n",
    "    print(\"\"\"Comparing the t statistic with \n",
    "    the critical t value we get a good p value of \"\"\"+str(p)+\"\"\" and thus we accept the \n",
    "    null hypothesis and thus it proves that the mean of the two distributions are \n",
    "    different and statistically significant.\"\"\")"
   ]
  },
  {
   "cell_type": "code",
   "execution_count": 7,
   "metadata": {},
   "outputs": [
    {
     "name": "stdout",
     "output_type": "stream",
     "text": [
      "[[   0 6759]\n",
      " [   0 6712]]\n",
      "              precision    recall  f1-score   support\n",
      "\n",
      "           0       0.00      0.00      0.00      6759\n",
      "           1       0.50      1.00      0.67      6712\n",
      "\n",
      "    accuracy                           0.50     13471\n",
      "   macro avg       0.25      0.50      0.33     13471\n",
      "weighted avg       0.25      0.50      0.33     13471\n",
      "\n",
      "Meaning equal number of gender = 0 and gender = 1 values are present. \n",
      "We can also notice that recall = 1 meaning our precision of classifying genders is \n",
      "less and is biased to capturing only gender = 1 customers. We captured all gender = 1 \n",
      "customers but also missed out a lot on capturing gender = 0 customers.\n"
     ]
    },
    {
     "name": "stderr",
     "output_type": "stream",
     "text": [
      "/opt/anaconda3/lib/python3.8/site-packages/sklearn/metrics/_classification.py:1221: UndefinedMetricWarning: Precision and F-score are ill-defined and being set to 0.0 in labels with no predicted samples. Use `zero_division` parameter to control this behavior.\n",
      "  _warn_prf(average, modifier, msg_start, len(result))\n"
     ]
    }
   ],
   "source": [
    "# D - Generate a confusion matrix for the gender predictions of customers in this dataset. You should assume that there is only one gender prediction for each customer. \n",
    "# What does the confusion matrix tell you about the quality of the predictions?\n",
    "\n",
    "from sklearn.metrics import confusion_matrix\n",
    "from sklearn.metrics import classification_report\n",
    "\n",
    "y_true = df['gender'].to_numpy()\n",
    "y_pred = np.ones(len(y_true))\n",
    "cm = confusion_matrix(y_true, y_pred)\n",
    "print(cm)\n",
    "\n",
    "print(classification_report(y_true, y_pred))\n",
    "print(\"\"\"Meaning equal number of gender = 0 and gender = 1 values are present. \n",
    "We can also notice that recall = 1 meaning our precision of classifying genders is \n",
    "less and is biased to capturing only gender = 1 customers. We captured all gender = 1 \n",
    "customers but also missed out a lot on capturing gender = 0 customers.\"\"\")"
   ]
  },
  {
   "cell_type": "code",
   "execution_count": 8,
   "metadata": {},
   "outputs": [
    {
     "name": "stdout",
     "output_type": "stream",
     "text": [
      "My favorite data science technique is PCA. It helps me reduce the dimension of a \n",
      "dataset and put into a scalable machine learning pipeline while retaining as \n",
      "much information as possible.\n"
     ]
    }
   ],
   "source": [
    "# E - Describe one of your favorite tools or techniques and give a small example of how \n",
    "# it's helped you solve a problem. Limit your answer to one paragraph, and please be specific.\n",
    "\n",
    "print(\"\"\"My favorite data science technique is PCA. It helps me reduce the dimension of a \n",
    "dataset and put into a scalable machine learning pipeline while retaining as \n",
    "much information as possible.\"\"\")"
   ]
  },
  {
   "cell_type": "code",
   "execution_count": null,
   "metadata": {},
   "outputs": [],
   "source": []
  }
 ],
 "metadata": {
  "kernelspec": {
   "display_name": "Python 3",
   "language": "python",
   "name": "python3"
  },
  "language_info": {
   "codemirror_mode": {
    "name": "ipython",
    "version": 3
   },
   "file_extension": ".py",
   "mimetype": "text/x-python",
   "name": "python",
   "nbconvert_exporter": "python",
   "pygments_lexer": "ipython3",
   "version": "3.8.3"
  }
 },
 "nbformat": 4,
 "nbformat_minor": 4
}
